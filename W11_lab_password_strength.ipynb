{
  "nbformat": 4,
  "nbformat_minor": 0,
  "metadata": {
    "colab": {
      "provenance": [],
      "authorship_tag": "ABX9TyNNw+vb+1WXGxhNcdhySCl5"
    },
    "kernelspec": {
      "name": "python3",
      "display_name": "Python 3"
    },
    "language_info": {
      "name": "python"
    }
  },
  "cells": [
    {
      "cell_type": "markdown",
      "source": [
        "**This code block is to get all the symbols from the printable list which contains all the ascii printable characters. I also show what all the ascii printable characters are for reference.**"
      ],
      "metadata": {
        "id": "CMLJIgSxTl4L"
      }
    },
    {
      "cell_type": "code",
      "source": [
        "import string\n",
        "print(string.printable, end=\"\")\n",
        "print(len(string.printable[62:94]))\n",
        "print(string.printable[62:94])"
      ],
      "metadata": {
        "colab": {
          "base_uri": "https://localhost:8080/"
        },
        "id": "P18RGd06Dw7r",
        "outputId": "246e3312-21fa-415d-ebbb-983b8cf84c54"
      },
      "execution_count": null,
      "outputs": [
        {
          "output_type": "stream",
          "name": "stdout",
          "text": [
            "0123456789abcdefghijklmnopqrstuvwxyzABCDEFGHIJKLMNOPQRSTUVWXYZ!\"#$%&'()*+,-./:;<=>?@[\\]^_`{|}~ \t\n",
            "\r\u000b\f32\n",
            "!\"#$%&'()*+,-./:;<=>?@[\\]^_`{|}~\n"
          ]
        }
      ]
    },
    {
      "cell_type": "markdown",
      "source": [
        "**This block calculates the size of the alphabet by checking for presence of symbols, capital letters, lowercase letters, and numbers to sum to determine the size of the alphabet.**"
      ],
      "metadata": {
        "id": "lQOg7wioIB7A"
      }
    },
    {
      "cell_type": "code",
      "source": [
        "import re\n",
        "def calculateAlphabetSize(password):\n",
        "  alphabetSize = 0\n",
        "  if (re.search(\"[!\\\"#$%&'()*+,-./:;<=>?@[\\]^_`{|}~]\", password)):\n",
        "    alphabetSize += 32\n",
        "  if (re.search(\"[A-Z]+\", password)):\n",
        "    alphabetSize += 26\n",
        "  if (re.search(\"[a-z]+\", password)):\n",
        "    alphabetSize += 26\n",
        "  if (re.search(\"[0-9]+\", password)):\n",
        "    alphabetSize += 10\n",
        "  return alphabetSize"
      ],
      "metadata": {
        "id": "dSiSZonExGE8"
      },
      "execution_count": null,
      "outputs": []
    },
    {
      "cell_type": "markdown",
      "source": [
        "**This block calculates the number of combinations in the given alphabet size, assuming what is given defines the alphabet space**"
      ],
      "metadata": {
        "id": "gTlLp_ClI57B"
      }
    },
    {
      "cell_type": "code",
      "source": [
        "# https://byui-cse.github.io/cse453-course/Ponder/453.11.Lab.html\n",
        "def calculateNumCombinations(password, alphabetSize):\n",
        "  passLength = len(password)\n",
        "  numCombinations = alphabetSize ** passLength\n",
        "  return numCombinations"
      ],
      "metadata": {
        "id": "9JMkpAk3_2W3"
      },
      "execution_count": null,
      "outputs": []
    },
    {
      "cell_type": "markdown",
      "source": [
        "**This block calculates the bit strength using the equation, log2(alphabet size ^ number digits) and returns the result as an integer, which is the same as taking the floor of the result since we do not have negative numbers**"
      ],
      "metadata": {
        "id": "qHqto_I3JK9x"
      }
    },
    {
      "cell_type": "code",
      "source": [
        "#bitstrength calculation: log2(alphabet size ** number digits)\n",
        "import math\n",
        "def bitStrengthCalculation(password, alphabetSize):\n",
        "  bitStrength = math.log2(alphabetSize ** len(password))\n",
        "  return int(bitStrength)"
      ],
      "metadata": {
        "id": "3FKVRemFUNf1"
      },
      "execution_count": null,
      "outputs": []
    },
    {
      "cell_type": "markdown",
      "source": [
        "**This is the main driver to run the program**"
      ],
      "metadata": {
        "id": "D2Aryx0rJ6xo"
      }
    },
    {
      "cell_type": "code",
      "execution_count": null,
      "metadata": {
        "id": "LAElkw7__Igv",
        "colab": {
          "base_uri": "https://localhost:8080/"
        },
        "outputId": "ae0ac8e2-0b1d-4732-adff-26eebc032a32"
      },
      "outputs": [
        {
          "output_type": "stream",
          "name": "stdout",
          "text": [
            "Please enter the password: P@55w\n",
            "There are 7339040224 combinations\n",
            "That is equivalent to a key of 32 bits\n"
          ]
        }
      ],
      "source": [
        "def main(password):\n",
        "  if (len(password) < 1):\n",
        "    password = input(\"Please enter the password: \")\n",
        "  alphabetSize = calculateAlphabetSize(password)\n",
        "  result = calculateNumCombinations(password, alphabetSize)\n",
        "  print(\"There are \" + str(result) + \" combinations\")\n",
        "  bitStrength = bitStrengthCalculation(password, alphabetSize)\n",
        "  print(\"That is equivalent to a key of \" + str(bitStrength) + \" bits\")\n",
        "main(\"\")"
      ]
    },
    {
      "cell_type": "markdown",
      "source": [
        "**This is for testing lots of cases quickly**"
      ],
      "metadata": {
        "id": "jGFph8s_N47i"
      }
    },
    {
      "cell_type": "code",
      "source": [
        "# %timeit sum(range(100))\n",
        "tests = [\"439\", \"TEFZ\", \"Dog\", \"$\", \"1298\", \"@%!\", \"az\", \"aA1!\", \"S3cur1ty!\"]\n",
        "for i in range(len(tests)):\n",
        "  print(\"-\" * 40)\n",
        "  print(\"Password: \" + \"\\\"\" + tests[i]+ \"\\\"\")\n",
        "  main(tests[i])\n",
        "  print(\"-\" * 40)\n",
        "  print()"
      ],
      "metadata": {
        "colab": {
          "base_uri": "https://localhost:8080/"
        },
        "id": "c6UE72ktKcKZ",
        "outputId": "ba432ced-8b50-47ab-cb5c-84828d4b24f6"
      },
      "execution_count": null,
      "outputs": [
        {
          "output_type": "stream",
          "name": "stdout",
          "text": [
            "----------------------------------------\n",
            "Password: \"439\"\n",
            "There are 1000 combinations\n",
            "That is equivalent to a key of 9 bits\n",
            "----------------------------------------\n",
            "\n",
            "----------------------------------------\n",
            "Password: \"TEFZ\"\n",
            "There are 456976 combinations\n",
            "That is equivalent to a key of 18 bits\n",
            "----------------------------------------\n",
            "\n",
            "----------------------------------------\n",
            "Password: \"Dog\"\n",
            "There are 140608 combinations\n",
            "That is equivalent to a key of 17 bits\n",
            "----------------------------------------\n",
            "\n",
            "----------------------------------------\n",
            "Password: \"$\"\n",
            "There are 32 combinations\n",
            "That is equivalent to a key of 5 bits\n",
            "----------------------------------------\n",
            "\n",
            "----------------------------------------\n",
            "Password: \"1298\"\n",
            "There are 10000 combinations\n",
            "That is equivalent to a key of 13 bits\n",
            "----------------------------------------\n",
            "\n",
            "----------------------------------------\n",
            "Password: \"@%!\"\n",
            "There are 32768 combinations\n",
            "That is equivalent to a key of 15 bits\n",
            "----------------------------------------\n",
            "\n",
            "----------------------------------------\n",
            "Password: \"az\"\n",
            "There are 676 combinations\n",
            "That is equivalent to a key of 9 bits\n",
            "----------------------------------------\n",
            "\n",
            "----------------------------------------\n",
            "Password: \"aA1!\"\n",
            "There are 78074896 combinations\n",
            "That is equivalent to a key of 26 bits\n",
            "----------------------------------------\n",
            "\n",
            "----------------------------------------\n",
            "Password: \"S3cur1ty!\"\n",
            "There are 572994802228616704 combinations\n",
            "That is equivalent to a key of 58 bits\n",
            "----------------------------------------\n",
            "\n"
          ]
        }
      ]
    },
    {
      "cell_type": "code",
      "source": [],
      "metadata": {
        "id": "8fNa2plkGTNc"
      },
      "execution_count": null,
      "outputs": []
    }
  ]
}