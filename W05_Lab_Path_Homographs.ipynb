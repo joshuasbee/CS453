{
  "nbformat": 4,
  "nbformat_minor": 0,
  "metadata": {
    "colab": {
      "provenance": []
    },
    "kernelspec": {
      "name": "python3",
      "display_name": "Python 3"
    },
    "language_info": {
      "name": "python"
    }
  },
  "cells": [
    {
      "cell_type": "markdown",
      "source": [
        "# Code"
      ],
      "metadata": {
        "id": "KvVrLCPX8zYn"
      }
    },
    {
      "cell_type": "markdown",
      "source": [
        "Our encoding is ASCII, and to determine whether characters are in the ASCII a-z or A-Z we used the ord() function in python and that converts a letter to the ASCII number for a, z, A, and Z. That way we can check if the letter is acceptable by converting it using ord() and make sure the number is equal to or between a to z or A to Z. We also assumed the use of a Linux system and the current working directory to be /users/bob\n",
        "\n",
        "Our way of representing a file path was to convert the file path string to an array using the split() function and splitting at the “/” symbol. /home/bob would become [””, “home”, “bob”]. We can use this to more easily determine if paths are equivalent because we can now compare arrays instead of strings. So the .. will tell us to pop off the end of the path because it means parent directory, and the Tilda represents home so we hard-coded that in there. We also reject symbols outside of [\".\", \"_\", \"-\", \"~\", “/”].\n",
        "\n",
        "To determine if they are homographs we check for everything that makes them different or invalid such as illegal characters, any more than 1 “/” consecutively which does not work in paths, a “\\~” in the middle of the path if the path ends with an actual file or not, and the length of the paths after we strip out all the “..” and “~” to determine for sure they are the same paths.\n",
        "\n",
        "Our test cases check for using dot notations (.. and .), check for illegal characters, check for homographs like we put a Russian e in one case. We also check things with lots of “/” or lots of “./././”. We check for things with no actual file names at all."
      ],
      "metadata": {
        "id": "NJfvHgr127wf"
      }
    },
    {
      "cell_type": "markdown",
      "source": [
        "This program assumes that:\n",
        "\n",
        "* the default navigation separator is `/`\n",
        "* system encoding is `UTF-8`\n",
        "* the File System is case sensetive (`folder/` and `Folder/` are the different)\n",
        "* only English characters, numbers, and `.`, `_`, `-` are allowed in file and folder names\n",
        "* there is no unreachable destination with `../`\n",
        "\n"
      ],
      "metadata": {
        "id": "duo8Bnrq_pro"
      }
    },
    {
      "cell_type": "code",
      "execution_count": null,
      "metadata": {
        "id": "gGu8HeVB7I0A"
      },
      "outputs": [],
      "source": [
        "## logic defenitions\n",
        "\n",
        "# working directory == /users/bob\n",
        "home = [\"users\", \"bob\"]\n",
        "\n",
        "# encoding in unicode\n",
        "startCapital = ord(\"A\")\n",
        "startLower = ord(\"a\")\n",
        "alphabetLength = 26\n",
        "endCapital = startCapital + alphabetLength\n",
        "endLower = startLower + alphabetLength\n",
        "\n",
        "# initial configuration\n",
        "systemSeparator = \"/\"\n",
        "allowedCharacters = [\".\", \"_\", \"-\", \"~\", systemSeparator]\n",
        "\n",
        "# checking if letter is Capitial by ascii value\n",
        "def isCapital(char):\n",
        "    charOrd = ord(char)\n",
        "\n",
        "    return charOrd >= startCapital and charOrd < endCapital\n",
        "\n",
        "# checking if letter is lowercase by ascii value\n",
        "def isLower(char):\n",
        "    charOrd = ord(char)\n",
        "\n",
        "    return charOrd >= startLower and charOrd < endLower\n",
        "\n",
        "# checking if the current character is allowed (english or digit)\n",
        "def isLegal(chars):\n",
        "    for char in chars:\n",
        "        if not isCapital(char) and not isLower(char) \\\n",
        "        and not char.isdigit() and not char in allowedCharacters:\n",
        "            return False\n",
        "    return True\n",
        "\n",
        "# getting the char charaters\n",
        "def getChars(word):\n",
        "    return [char for char in word if char not in allowedCharacters]\n",
        "\n",
        "# checks if the last item is a file (currently, if it exists)\n",
        "def isEndingWithFile(segments):\n",
        "    lastElement = segments[-1]\n",
        "\n",
        "    return len(lastElement.split(\".\")) > 1\n",
        "\n",
        "# optimizes the list of path items\n",
        "def getUniformed(segments):\n",
        "    uniformed = []\n",
        "\n",
        "    if segments[0] == \"~\":\n",
        "      uniformed.extend(home)\n",
        "      segments.pop(0)\n",
        "    elif segments[0] != \"\":\n",
        "      uniformed.extend(home)\n",
        "\n",
        "    for segment in segments:\n",
        "        if segment == \".\" or not segment:\n",
        "            continue\n",
        "\n",
        "        if segment == \"..\" and len(uniformed):\n",
        "            uniformed.pop()\n",
        "            continue\n",
        "\n",
        "        uniformed.append(segment)\n",
        "\n",
        "    return uniformed\n",
        "\n",
        "# checks if two path strings are homographic\n",
        "def areHomographs(first, second):\n",
        "    if not isLegal(getChars(first)):\n",
        "        print(\"Illegal characters in the first path\")\n",
        "        return False\n",
        "\n",
        "    if not isLegal(getChars(second)):\n",
        "        print(\"Illegal characters in the second path\")\n",
        "        return False\n",
        "\n",
        "    if first.find(\"//\") != -1:\n",
        "        print(\"Illegal // in the first path\")\n",
        "        return False\n",
        "\n",
        "    if second.find(\"//\") != -1:\n",
        "        print(\"Illegal // in the second path\")\n",
        "        return False\n",
        "\n",
        "    firstTildaSplit = first.split(\"~\")\n",
        "    secondTildaSplit = second.split(\"~\")\n",
        "\n",
        "    if len(firstTildaSplit) > 2 or len(firstTildaSplit) == 2 and firstTildaSplit[0] != \"\":\n",
        "        print(\"Tilda is used wrong in the first path\")\n",
        "        return False\n",
        "\n",
        "    if len(secondTildaSplit) > 2 or len(secondTildaSplit) == 2 and secondTildaSplit[0] != \"\":\n",
        "        print(\"Tilda is used wrong in the second path\")\n",
        "        return False\n",
        "\n",
        "    firstSegments = first.split(systemSeparator)\n",
        "    secondSegments = second.split(systemSeparator)\n",
        "\n",
        "    if not (isEndingWithFile(firstSegments)):\n",
        "        print(\"The first path doesn't end with file\")\n",
        "        return False\n",
        "\n",
        "    if not (isEndingWithFile(secondSegments)):\n",
        "        print(\"The second path doesn't end with file\")\n",
        "        return False\n",
        "\n",
        "    firstUniformed = getUniformed(firstSegments)\n",
        "    secondUniformed = getUniformed(secondSegments)\n",
        "\n",
        "    if len(firstUniformed) != len(secondUniformed):\n",
        "        print(\"Different paths\")\n",
        "        return False\n",
        "\n",
        "    for i in range(len(firstUniformed)):\n",
        "        if (firstUniformed[i] != secondUniformed[i]):\n",
        "            print(\"Different paths\")\n",
        "            return False\n",
        "\n",
        "    return True\n",
        "\n",
        "def testHomographs(first, second):\n",
        "  print(\"Specify the first filename:  \" + first)\n",
        "  print(\"Specify the second filename: \" + second)\n",
        "\n",
        "  if (areHomographs(first, second)):\n",
        "    print(\"The paths are homographs\\n\")\n",
        "  else:\n",
        "    print(\"The paths are NOT homographs\\n\")"
      ]
    },
    {
      "cell_type": "markdown",
      "source": [
        "# Test scenarios\n",
        "\n",
        "* ***e***: What is the encoding in this scenario?\n",
        "* ***r***: This can be a bit difficult to figure out, so I will help. The rendition is a file handle. In the case of C++, it would be ifstream fin;. In Python, it would be the file object returned by the open() function. This points to a given resource on the file system.\n",
        "* ***R()***: This is the rendering function. In the case of our scenario, this might be fin.open(e); in C++ or open(filename, 'r') in Python. In other words, it turns an encoding into a rendition. Note that we do not need to and should not use fin.open() or open() for this problem because it treats all paths the same that do not refer to resources on the system. For example, if a file path is non-existent, it would be treated the same as another non-existent file path. In other words, it would report two non-homographs as the same even when they are obviously different.\n",
        "* ***c***: This is the canon. You need to identify an appropriate canon. Think of a canonical way to represent a file path.\n",
        "* ***C()***: The bulk of your work will be to create an appropriate canonicalization function. This should be informed by the functionality of *R()* but should not use it.\n",
        "* ***H()***: This is the homograph function. It determines if two encodings are the same. It should leverage the work done in *C()*. Check the textbook for an idea of what this will look like.\n",
        "\n"
      ],
      "metadata": {
        "id": "nEeigVThDk7k"
      }
    },
    {
      "cell_type": "markdown",
      "source": [
        "Automated Tests\n",
        "Test cases are provided in a 2D array.\n",
        "Each test case is run and outputs whether or not it succeeded."
      ],
      "metadata": {
        "id": "wdfuBuHCAYDA"
      }
    },
    {
      "cell_type": "code",
      "source": [
        "# Each array within testCases is an individual test case, where\n",
        "# [first filename, second filename, Expected Output (True/False)]\n",
        "\n",
        "testCases = [\n",
        "    [1, \"file.txt\", \"file.txt\", True],\n",
        "    [2, \"file.txt\", \"./file.txt\", True],\n",
        "    [3, \"file.txt\", \"../../file.txt\", False],\n",
        "    [4, \"file.txt\", \"../../users/bob/file.txt\", True],\n",
        "    [5, \"file.txt\", \"File.txt\", False],\n",
        "    [6, \"file.txt\", \"/file.txt\", False],\n",
        "    [7, \"file.txt\", \"file%.txt\", False], # % should not be legal character\n",
        "    [8, \"filе.txt\", \"file.txt\", False], # One of the \"e\"s is a homograph of ascii \"e\"\n",
        "    [9, \"~/file.txt\", \"file.txt\", True],\n",
        "    [10, \"/../../../file.txt\", \"../../../file.txt\", True],\n",
        "    [11, \"~/../../../file.txt\", \"../../../file.txt\", True],\n",
        "    [12, \"~/../../~/file.txt\", \"../../../file.txt\", False],\n",
        "    [13, \"/users/bob/file.txt\", \"file.txt\", True],\n",
        "    [14, \"/users/./bob/file.txt\", \"././././file.txt\", True],\n",
        "    [15, \"/////////file.txt\", \"././././././file.txt\", False],\n",
        "    [16, \"../folder/../folder2/../file.txt\", \"../../users/file.txt\", True],\n",
        "    [17, \"/\", \"/./\", False],\n",
        "    [18, \"\", \"\", False],\n",
        "    [19, \"file_1.txt\", \"~/file_1.txt\", True],\n",
        "    [20, \"file.txt\", \"file.txt\", True],\n",
        "]\n",
        "    # [20, \"file.txt\", \"file.txt\", True],\n",
        "\n",
        "def runAutomatedTests(testCases):\n",
        "  for case in testCases:\n",
        "    output = areHomographs(case[1], case[2])\n",
        "    expectedOutput = case[3]\n",
        "\n",
        "    if(output == expectedOutput):\n",
        "      print(f\"{case[0]}. Success\\n\")\n",
        "    else:\n",
        "      print(f\"{case[0]}. Failure in test - file1 = '{case[1]}' / file2 = '{case[2]}'\")\n",
        "      print(f\"\\t\\t\\tOutput: {output} / Expected: {expectedOutput}\\n\")\n",
        "\n",
        "runAutomatedTests(testCases)"
      ],
      "metadata": {
        "id": "pJjdFWzajzeP",
        "colab": {
          "base_uri": "https://localhost:8080/"
        },
        "outputId": "d2cc6798-db55-490b-a774-232008e2b666"
      },
      "execution_count": null,
      "outputs": [
        {
          "output_type": "stream",
          "name": "stdout",
          "text": [
            "1. Success\n",
            "\n",
            "2. Success\n",
            "\n",
            "Different paths\n",
            "3. Success\n",
            "\n",
            "4. Success\n",
            "\n",
            "Different paths\n",
            "5. Success\n",
            "\n",
            "Different paths\n",
            "6. Success\n",
            "\n",
            "Illegal characters in the second path\n",
            "7. Success\n",
            "\n",
            "Illegal characters in the first path\n",
            "8. Success\n",
            "\n",
            "9. Success\n",
            "\n",
            "10. Success\n",
            "\n",
            "11. Success\n",
            "\n",
            "Tilda is used wrong in the first path\n",
            "12. Success\n",
            "\n",
            "13. Success\n",
            "\n",
            "14. Success\n",
            "\n",
            "Illegal // in the first path\n",
            "15. Success\n",
            "\n",
            "16. Success\n",
            "\n",
            "The first path doesn't end with file\n",
            "17. Success\n",
            "\n",
            "The first path doesn't end with file\n",
            "18. Success\n",
            "\n",
            "19. Success\n",
            "\n",
            "20. Success\n",
            "\n"
          ]
        }
      ]
    },
    {
      "cell_type": "code",
      "source": [
        "def testHomographs(first, second):\n",
        "  if (areHomographs(first, second)):\n",
        "    print(\"The paths are homographs\\n\")\n",
        "  else:\n",
        "    print(\"The paths are NOT homographs\\n\")\n",
        "\n",
        "print(\"The current directory is /users/bob\")\n",
        "print(\"Specify the first filename:  \", end = \"\")\n",
        "fname1 = input()\n",
        "print(\"Specify the second filename: \", end = \"\")\n",
        "fname2 = input()\n",
        "testHomographs(fname1, fname2)"
      ],
      "metadata": {
        "colab": {
          "base_uri": "https://localhost:8080/"
        },
        "id": "E7Ve4gVxO2y-",
        "outputId": "0298819c-170b-4387-d458-6ecd558172f7"
      },
      "execution_count": null,
      "outputs": [
        {
          "output_type": "stream",
          "name": "stdout",
          "text": [
            "The current directory is /users/bob\n",
            "Specify the first filename:  /dir1/dir2/../a.txt\n",
            "Specify the second filename: ../../dir1/a.txt\n",
            "The paths are homographs\n",
            "\n"
          ]
        }
      ]
    },
    {
      "cell_type": "markdown",
      "source": [],
      "metadata": {
        "id": "hTfiCL7n2yKu"
      }
    }
  ]
}